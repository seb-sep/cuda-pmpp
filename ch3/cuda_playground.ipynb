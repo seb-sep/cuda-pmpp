{
 "cells": [
  {
   "cell_type": "code",
   "execution_count": 4,
   "metadata": {},
   "outputs": [],
   "source": [
    "import torch\n",
    "from torch.utils.cpp_extension import load "
   ]
  },
  {
   "cell_type": "code",
   "execution_count": 10,
   "metadata": {},
   "outputs": [
    {
     "name": "stderr",
     "output_type": "stream",
     "text": [
      "Using /home/seb/.cache/torch_extensions/py312_cu121 as PyTorch extensions root...\n",
      "No modifications detected for re-loaded extension module m, skipping build step...\n",
      "Loading extension module m...\n"
     ]
    }
   ],
   "source": [
    "module = load(\n",
    "    name = 'm',\n",
    "    sources = ['main.cpp', 'ch3.cu', 'square.cu'],\n",
    "    # extra_cflags=['-02'],\n",
    "    verbose=True\n",
    ")"
   ]
  },
  {
   "cell_type": "code",
   "execution_count": 11,
   "metadata": {},
   "outputs": [
    {
     "data": {
      "text/plain": [
       "tensor([[0.4997, 0.3176],\n",
       "        [0.8411, 0.8210]], device='cuda:0')"
      ]
     },
     "execution_count": 11,
     "metadata": {},
     "output_type": "execute_result"
    }
   ],
   "source": [
    "# A = torch.tensor([[1., 1.],\n",
    "#                   [0., 0.]])\n",
    "\n",
    "# B = torch.tensor([[2., 0.],\n",
    "#                   [2., 0.]])\n",
    "\n",
    "# A.to('cuda'), B.to('cuda')\n",
    "A = torch.rand((2, 2), device='cuda')\n",
    "B = torch.rand((2, 2), device='cuda')\n",
    "module.gemm(A, B)"
   ]
  },
  {
   "cell_type": "code",
   "execution_count": null,
   "metadata": {},
   "outputs": [],
   "source": []
  }
 ],
 "metadata": {
  "kernelspec": {
   "display_name": "cudaenv",
   "language": "python",
   "name": "python3"
  },
  "language_info": {
   "codemirror_mode": {
    "name": "ipython",
    "version": 3
   },
   "file_extension": ".py",
   "mimetype": "text/x-python",
   "name": "python",
   "nbconvert_exporter": "python",
   "pygments_lexer": "ipython3",
   "version": "3.12.3"
  }
 },
 "nbformat": 4,
 "nbformat_minor": 2
}
