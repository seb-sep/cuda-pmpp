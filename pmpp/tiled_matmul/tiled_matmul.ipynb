{
 "cells": [
  {
   "cell_type": "code",
   "execution_count": 1,
   "metadata": {},
   "outputs": [],
   "source": [
    "import torch"
   ]
  },
  {
   "cell_type": "code",
   "execution_count": null,
   "metadata": {},
   "outputs": [],
   "source": [
    "a = torch.randint(low=0, high=10, size=(4, 4), dtype=torch.int32)\n",
    "b = torch.randint(low=0, high=10, size=(4, 4), dtype=torch.int32)\n",
    "a, b"
   ]
  },
  {
   "cell_type": "code",
   "execution_count": null,
   "metadata": {},
   "outputs": [],
   "source": [
    "from itertools import product\n",
    "\n",
    "def tiled_matmul(a: torch.Tensor, b: torch.Tensor, tile_width = 2):\n",
    "    assert a.shape[1] == b.shape[0]\n",
    "    res = torch.zeros(a.shape[0], b.shape[1], dtype=torch.int32)\n",
    "\n",
    "    # mock shared memory\n",
    "    sma = torch.empty((tile_width, tile_width), dtype=torch.int32)\n",
    "    smb = torch.empty((tile_width, tile_width), dtype=torch.int32)\n",
    "\n",
    "    # number of tiles for outer dims\n",
    "    m_tiles = a.shape[0] // tile_width + (a.shape[0] % tile_width)\n",
    "    n_tiles = b.shape[1] // tile_width + (b.shape[1] % tile_width)\n",
    "    # inner dim tiles\n",
    "    k_tiles = a.shape[1] // tile_width + (a.shape[1] % tile_width)\n",
    "\n",
    "    # tiling coordinates\n",
    "    for i, j in product(range(0, m_tiles*tile_width, tile_width), range(0, n_tiles*tile_width, tile_width)):\n",
    "        # loop over each phase of tiled matmul\n",
    "        for p in range(k_tiles):\n",
    "\n",
    "            # each thread loads a value from a and b into shared memory\n",
    "            # a phases across a row, b phases across a column\n",
    "            for ti, tj in product(range(tile_width), repeat=2):\n",
    "                if (i+ti) < a.shape[0] and (tile_width*p+tj) < a.shape[1]:\n",
    "                    sma[ti][tj] = a[i+ti][tile_width*p+tj]\n",
    "                else:\n",
    "                    sma[ti][tj] = 0\n",
    "                if (tile_width*p+ti) < b.shape[0] and (j+tj) < b.shape[1]:\n",
    "                    smb[ti][tj] = b[tile_width*p+ti][j+tj]\n",
    "                else:\n",
    "                    smb[ti][tj] = 0\n",
    "\n",
    "            # need to do two separate loops to fully load in shared memory before dot products\n",
    "            for ti, tj in product(range(tile_width), repeat=2):\n",
    "                # dot the tith row of a with the tjth col of b\n",
    "                if (i+ti) < res.shape[0] and (j+tj) < res.shape[1]:\n",
    "                    res[i+ti][j+tj] += sum(sma[ti].flatten() * smb[:, tj].flatten()) # each thread does tile_width muls\n",
    "\n",
    "\n",
    "    return res\n",
    "\n",
    "\n",
    "print(torch.equal(a @ b, tiled_matmul(a, b, tile_width=2)))\n",
    "a @ b, tiled_matmul(a, b, tile_width=4)\n"
   ]
  },
  {
   "cell_type": "markdown",
   "metadata": {},
   "source": [
    "## Load in CUDA version"
   ]
  },
  {
   "cell_type": "code",
   "execution_count": 2,
   "metadata": {},
   "outputs": [
    {
     "name": "stderr",
     "output_type": "stream",
     "text": [
      "Using /home/seb/.cache/torch_extensions/py312_cu121 as PyTorch extensions root...\n",
      "Detected CUDA files, patching ldflags\n",
      "Emitting ninja build file /home/seb/.cache/torch_extensions/py312_cu121/m/build.ninja...\n",
      "/home/seb/CUDA/cudaenv/lib/python3.12/site-packages/torch/utils/cpp_extension.py:1967: UserWarning: TORCH_CUDA_ARCH_LIST is not set, all archs for visible cards are included for compilation. \n",
      "If this is not desired, please set os.environ['TORCH_CUDA_ARCH_LIST'].\n",
      "  warnings.warn(\n",
      "Building extension module m...\n",
      "Allowing ninja to set a default number of workers... (overridable by setting the environment variable MAX_JOBS=N)\n"
     ]
    },
    {
     "name": "stdout",
     "output_type": "stream",
     "text": [
      "[1/3] c++ -MMD -MF main.o.d -DTORCH_EXTENSION_NAME=m -DTORCH_API_INCLUDE_EXTENSION_H -DPYBIND11_COMPILER_TYPE=\\\"_gcc\\\" -DPYBIND11_STDLIB=\\\"_libstdcpp\\\" -DPYBIND11_BUILD_ABI=\\\"_cxxabi1011\\\" -isystem /home/seb/CUDA/cudaenv/lib/python3.12/site-packages/torch/include -isystem /home/seb/CUDA/cudaenv/lib/python3.12/site-packages/torch/include/torch/csrc/api/include -isystem /home/seb/CUDA/cudaenv/lib/python3.12/site-packages/torch/include/TH -isystem /home/seb/CUDA/cudaenv/lib/python3.12/site-packages/torch/include/THC -isystem /usr/local/cuda-12.3/include -isystem /home/seb/miniconda3/include/python3.12 -D_GLIBCXX_USE_CXX11_ABI=0 -fPIC -std=c++17 -c /home/seb/CUDA/pmpp/tiled_matmul/main.cpp -o main.o \n",
      "[2/3] /usr/local/cuda-12.3/bin/nvcc --generate-dependencies-with-compile --dependency-output tiled_matmul.cuda.o.d -DTORCH_EXTENSION_NAME=m -DTORCH_API_INCLUDE_EXTENSION_H -DPYBIND11_COMPILER_TYPE=\\\"_gcc\\\" -DPYBIND11_STDLIB=\\\"_libstdcpp\\\" -DPYBIND11_BUILD_ABI=\\\"_cxxabi1011\\\" -isystem /home/seb/CUDA/cudaenv/lib/python3.12/site-packages/torch/include -isystem /home/seb/CUDA/cudaenv/lib/python3.12/site-packages/torch/include/torch/csrc/api/include -isystem /home/seb/CUDA/cudaenv/lib/python3.12/site-packages/torch/include/TH -isystem /home/seb/CUDA/cudaenv/lib/python3.12/site-packages/torch/include/THC -isystem /usr/local/cuda-12.3/include -isystem /home/seb/miniconda3/include/python3.12 -D_GLIBCXX_USE_CXX11_ABI=0 -D__CUDA_NO_HALF_OPERATORS__ -D__CUDA_NO_HALF_CONVERSIONS__ -D__CUDA_NO_BFLOAT16_CONVERSIONS__ -D__CUDA_NO_HALF2_OPERATORS__ --expt-relaxed-constexpr -gencode=arch=compute_61,code=compute_61 -gencode=arch=compute_61,code=sm_61 --compiler-options '-fPIC' -std=c++17 -c /home/seb/CUDA/pmpp/tiled_matmul/tiled_matmul.cu -o tiled_matmul.cuda.o \n",
      "[3/3] c++ main.o tiled_matmul.cuda.o -shared -L/home/seb/CUDA/cudaenv/lib/python3.12/site-packages/torch/lib -lc10 -lc10_cuda -ltorch_cpu -ltorch_cuda -ltorch -ltorch_python -L/usr/local/cuda-12.3/lib64 -lcudart -o m.so\n"
     ]
    },
    {
     "name": "stderr",
     "output_type": "stream",
     "text": [
      "Loading extension module m...\n"
     ]
    }
   ],
   "source": [
    "from torch.utils.cpp_extension import load\n",
    "module = load(\n",
    "    name = 'm',\n",
    "    sources = ['main.cpp', 'tiled_matmul.cu'],\n",
    "    verbose=True\n",
    ")\n",
    "\n"
   ]
  },
  {
   "cell_type": "code",
   "execution_count": 5,
   "metadata": {},
   "outputs": [
    {
     "name": "stdout",
     "output_type": "stream",
     "text": [
      "tensor([[0.5696, 0.0066, 0.3270, 0.8539],\n",
      "        [0.9236, 0.4954, 0.7321, 0.8394],\n",
      "        [0.9924, 0.8557, 0.0706, 0.9079],\n",
      "        [0.9878, 0.3277, 0.0740, 0.4086]], device='cuda:0') tensor([[0.6172, 0.9494, 0.5361, 0.2185],\n",
      "        [0.5762, 0.7989, 0.6186, 0.2083],\n",
      "        [0.6684, 0.0917, 0.2277, 0.4593],\n",
      "        [0.7602, 0.7561, 0.9238, 0.3692]], device='cuda:0')\n"
     ]
    }
   ],
   "source": [
    "a = torch.rand((4, 4), device='cuda')\n",
    "b = torch.rand((4, 4), device='cuda')\n",
    "print(a, b)\n",
    "\n",
    "\n",
    "\n",
    "# a = torch.randint(low=0, high=10, size=(4, 4), dtype=torch.int32, device='cuda')\n",
    "# b = torch.randint(low=0, high=10, size=(4, 4), dtype=torch.int32, device='cuda')"
   ]
  },
  {
   "cell_type": "code",
   "execution_count": 6,
   "metadata": {},
   "outputs": [
    {
     "data": {
      "text/plain": [
       "(tensor([[1.2231, 1.2217, 1.1727, 0.5913],\n",
       "         [1.9829, 1.9744, 1.7437, 0.9511],\n",
       "         [1.8429, 2.3187, 1.9161, 0.7627],\n",
       "         [1.1586, 1.5153, 1.1266, 0.4689]], device='cuda:0'),\n",
       " tensor([[1.2231, 1.2217, 1.1727, 0.5913],\n",
       "         [1.9829, 1.9744, 1.7437, 0.9511],\n",
       "         [1.8429, 2.3187, 1.9161, 0.7627],\n",
       "         [1.1586, 1.5153, 1.1266, 0.4689]], device='cuda:0'))"
      ]
     },
     "execution_count": 6,
     "metadata": {},
     "output_type": "execute_result"
    }
   ],
   "source": [
    "module.matmul(a, b), a @ b"
   ]
  },
  {
   "cell_type": "code",
   "execution_count": null,
   "metadata": {},
   "outputs": [],
   "source": []
  }
 ],
 "metadata": {
  "kernelspec": {
   "display_name": "spyder-env",
   "language": "python",
   "name": "python3"
  },
  "language_info": {
   "codemirror_mode": {
    "name": "ipython",
    "version": 3
   },
   "file_extension": ".py",
   "mimetype": "text/x-python",
   "name": "python",
   "nbconvert_exporter": "python",
   "pygments_lexer": "ipython3",
   "version": "3.12.3"
  }
 },
 "nbformat": 4,
 "nbformat_minor": 2
}
